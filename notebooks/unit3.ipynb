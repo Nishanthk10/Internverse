{
  "metadata": {
    "kernelspec": {
      "display_name": "Python 3",
      "language": "python",
      "name": "python3"
    },
    "language_info": {
      "name": "python",
      "version": "3.8.0",
      "mimetype": "text/x-python",
      "codemirror_mode": {
        "name": "ipython",
        "version": 3
      }
    }
  },
  "nbformat": 4,
  "nbformat_minor": 4,
  "cells": [
    {
      "cell_type": "markdown",
      "metadata": {},
      "source": [
        "# Control Flow and Loops\n",
        "\n",
        "Learn how to control program flow using conditional statements and loops in Python."
      ]
    },
    {
      "cell_type": "markdown",
      "metadata": {},
      "source": [
        "## Conditional Statements\n",
        "\n",
        "Let's explore if-elif-else statements:"
      ]
    },
    {
      "cell_type": "code",
      "metadata": {},
      "source": [
        "def check_temperature(temp):\n",
        "    if temp > 30:\n",
        "        return \"It's hot!\"\n",
        "    elif temp > 20:\n",
        "        return \"It's warm.\"\n",
        "    elif temp > 10:\n",
        "        return \"It's cool.\"\n",
        "    else:\n",
        "        return \"It's cold!\"\n",
        "\n",
        "# Test different temperatures\n",
        "temperatures = [35, 25, 15, 5]\n",
        "for temp in temperatures:\n",
        "    print(f\"Temperature {temp}°C: {check_temperature(temp)}\")"
      ],
      "outputs": [],
      "execution_count": null
    },
    {
      "cell_type": "markdown",
      "metadata": {},
      "source": [
        "## Loops\n",
        "\n",
        "Now let's practice with for and while loops:"
      ]
    },
    {
      "cell_type": "code",
      "metadata": {},
      "source": [
        "# For loop with range\n",
        "print(\"Counting from 1 to 5:\")\n",
        "for i in range(1, 6):\n",
        "    print(i)\n",
        "\n",
        "# While loop\n",
        "print(\"\\nCountdown:\")\n",
        "count = 3\n",
        "while count > 0:\n",
        "    print(count)\n",
        "    count -= 1\n",
        "print(\"Blast off!\")"
      ],
      "outputs": [],
      "execution_count": null
    }
  ]
}