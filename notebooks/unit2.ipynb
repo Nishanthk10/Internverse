{
  "metadata": {
    "kernelspec": {
      "display_name": "Python 3",
      "language": "python",
      "name": "python3"
    },
    "language_info": {
      "name": "python",
      "version": "3.8.0",
      "mimetype": "text/x-python",
      "codemirror_mode": {
        "name": "ipython",
        "version": 3
      }
    }
  },
  "nbformat": 4,
  "nbformat_minor": 4,
  "cells": [
    {
      "cell_type": "markdown",
      "metadata": {},
      "source": [
        "# Datatypes, Variables and Functions\n",
        "\n",
        "In this lab, we'll explore Python's core building blocks: data types, variables, and functions."
      ]
    },
    {
      "cell_type": "markdown",
      "metadata": {},
      "source": [
        "## Variables and Data Types\n",
        "\n",
        "Let's explore different data types in Python:"
      ]
    },
    {
      "cell_type": "code",
      "metadata": {},
      "source": [
        "# Numbers\n",
        "age = 25\n",
        "height = 1.75\n",
        "\n",
        "# Strings\n",
        "name = 'Alice'\n",
        "greeting = \"Hello, World!\"\n",
        "\n",
        "# Lists\n",
        "colors = ['red', 'green', 'blue']\n",
        "\n",
        "# Print and check types\n",
        "print(f\"Age: {age} (type: {type(age)})\")\n",
        "print(f\"Height: {height} (type: {type(height)})\")\n",
        "print(f\"Name: {name} (type: {type(name)})\")\n",
        "print(f\"Colors: {colors} (type: {type(colors)})\")"
      ],
      "outputs": [],
      "execution_count": null
    },
    {
      "cell_type": "markdown",
      "metadata": {},
      "source": [
        "## Functions\n",
        "\n",
        "Now let's create and use some functions:"
      ]
    },
    {
      "cell_type": "code",
      "metadata": {},
      "source": [
        "def greet(name):\n",
        "    return f\"Hello, {name}!\"\n",
        "\n",
        "def calculate_area(length, width):\n",
        "    return length * width\n",
        "\n",
        "# Test the functions\n",
        "print(greet(\"Alice\"))\n",
        "print(f\"Area of rectangle: {calculate_area(5, 3)}\")"
      ],
      "outputs": [],
      "execution_count": null
    }
  ]
}