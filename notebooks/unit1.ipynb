{
  "metadata": {
    "kernelspec": {
      "display_name": "Python 3",
      "language": "python",
      "name": "python3"
    },
    "language_info": {
      "name": "python",
      "version": "3.8.0",
      "mimetype": "text/x-python",
      "codemirror_mode": {
        "name": "ipython",
        "version": 3
      }
    }
  },
  "nbformat": 4,
  "nbformat_minor": 4,
  "cells": [
    {
      "cell_type": "markdown",
      "metadata": {},
      "source": [
        "# Getting Started with Python\n",
        "\n",
        "Welcome to your first Python lab! In this notebook, we'll learn the basics of Python programming."
      ]
    },
    {
      "cell_type": "markdown",
      "metadata": {},
      "source": [
        "## Your First Python Program\n",
        "\n",
        "Let's start with the classic 'Hello, World!' program. Run the cell below:"
      ]
    },
    {
      "cell_type": "code",
      "metadata": {},
      "source": [
        "print('Hello, World!')"
      ],
      "outputs": [],
      "execution_count": null
    },
    {
      "cell_type": "markdown",
      "metadata": {},
      "source": [
        "## Basic Mathematics\n",
        "\n",
        "Python can perform mathematical calculations. Try running this:"
      ]
    },
    {
      "cell_type": "code",
      "metadata": {},
      "source": [
        "# Addition\n",
        "print(5 + 3)\n",
        "\n",
        "# Multiplication\n",
        "print(4 * 2)\n",
        "\n",
        "# Division\n",
        "print(10 / 2)"
      ],
      "outputs": [],
      "execution_count": null
    }
  ]
}